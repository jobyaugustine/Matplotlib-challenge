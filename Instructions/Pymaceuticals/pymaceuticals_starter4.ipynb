{
 "cells": [
  {
   "cell_type": "markdown",
   "metadata": {},
   "source": [
    "## Observations and Insights "
   ]
  },
  {
   "cell_type": "markdown",
   "metadata": {},
   "source": []
  },
  {
   "cell_type": "code",
   "execution_count": 240,
   "metadata": {},
   "outputs": [],
   "source": [
    "# Dependencies and Setup\n",
    "import matplotlib.pyplot as plt\n",
    "import pandas as pd\n",
    "import scipy.stats as st\n",
    "import numpy as np\n",
    "from scipy.stats import linregress"
   ]
  },
  {
   "cell_type": "code",
   "execution_count": 11,
   "metadata": {},
   "outputs": [
    {
     "data": {
      "text/html": [
       "<div>\n",
       "<style scoped>\n",
       "    .dataframe tbody tr th:only-of-type {\n",
       "        vertical-align: middle;\n",
       "    }\n",
       "\n",
       "    .dataframe tbody tr th {\n",
       "        vertical-align: top;\n",
       "    }\n",
       "\n",
       "    .dataframe thead th {\n",
       "        text-align: right;\n",
       "    }\n",
       "</style>\n",
       "<table border=\"1\" class=\"dataframe\">\n",
       "  <thead>\n",
       "    <tr style=\"text-align: right;\">\n",
       "      <th></th>\n",
       "      <th>Mouse ID</th>\n",
       "      <th>Drug Regimen</th>\n",
       "      <th>Sex</th>\n",
       "      <th>Age_months</th>\n",
       "      <th>Weight (g)</th>\n",
       "    </tr>\n",
       "  </thead>\n",
       "  <tbody>\n",
       "    <tr>\n",
       "      <th>0</th>\n",
       "      <td>k403</td>\n",
       "      <td>Ramicane</td>\n",
       "      <td>Male</td>\n",
       "      <td>21</td>\n",
       "      <td>16</td>\n",
       "    </tr>\n",
       "    <tr>\n",
       "      <th>1</th>\n",
       "      <td>s185</td>\n",
       "      <td>Capomulin</td>\n",
       "      <td>Female</td>\n",
       "      <td>3</td>\n",
       "      <td>17</td>\n",
       "    </tr>\n",
       "    <tr>\n",
       "      <th>2</th>\n",
       "      <td>x401</td>\n",
       "      <td>Capomulin</td>\n",
       "      <td>Female</td>\n",
       "      <td>16</td>\n",
       "      <td>15</td>\n",
       "    </tr>\n",
       "    <tr>\n",
       "      <th>3</th>\n",
       "      <td>m601</td>\n",
       "      <td>Capomulin</td>\n",
       "      <td>Male</td>\n",
       "      <td>22</td>\n",
       "      <td>17</td>\n",
       "    </tr>\n",
       "    <tr>\n",
       "      <th>4</th>\n",
       "      <td>g791</td>\n",
       "      <td>Ramicane</td>\n",
       "      <td>Male</td>\n",
       "      <td>11</td>\n",
       "      <td>16</td>\n",
       "    </tr>\n",
       "  </tbody>\n",
       "</table>\n",
       "</div>"
      ],
      "text/plain": [
       "  Mouse ID Drug Regimen     Sex  Age_months  Weight (g)\n",
       "0     k403     Ramicane    Male          21          16\n",
       "1     s185    Capomulin  Female           3          17\n",
       "2     x401    Capomulin  Female          16          15\n",
       "3     m601    Capomulin    Male          22          17\n",
       "4     g791     Ramicane    Male          11          16"
      ]
     },
     "execution_count": 11,
     "metadata": {},
     "output_type": "execute_result"
    }
   ],
   "source": [
    "# Study data files\n",
    "mouse_metadata_path = \"data/Mouse_metadata.csv\"\n",
    "study_results_path = \"data/Study_results.csv\"\n",
    "\n",
    "# Read the mouse data and the study results\n",
    "mouse_metadata = pd.read_csv(mouse_metadata_path)\n",
    "study_results = pd.read_csv(study_results_path)\n",
    "\n",
    "mouse_metadata.head()"
   ]
  },
  {
   "cell_type": "code",
   "execution_count": 17,
   "metadata": {},
   "outputs": [
    {
     "data": {
      "text/html": [
       "<div>\n",
       "<style scoped>\n",
       "    .dataframe tbody tr th:only-of-type {\n",
       "        vertical-align: middle;\n",
       "    }\n",
       "\n",
       "    .dataframe tbody tr th {\n",
       "        vertical-align: top;\n",
       "    }\n",
       "\n",
       "    .dataframe thead th {\n",
       "        text-align: right;\n",
       "    }\n",
       "</style>\n",
       "<table border=\"1\" class=\"dataframe\">\n",
       "  <thead>\n",
       "    <tr style=\"text-align: right;\">\n",
       "      <th></th>\n",
       "      <th>Mouse ID</th>\n",
       "      <th>Drug Regimen</th>\n",
       "      <th>Sex</th>\n",
       "      <th>Age_months</th>\n",
       "      <th>Weight (g)</th>\n",
       "      <th>Timepoint</th>\n",
       "      <th>Tumor Volume (mm3)</th>\n",
       "      <th>Metastatic Sites</th>\n",
       "    </tr>\n",
       "  </thead>\n",
       "  <tbody>\n",
       "    <tr>\n",
       "      <th>0</th>\n",
       "      <td>a203</td>\n",
       "      <td>Infubinol</td>\n",
       "      <td>Female</td>\n",
       "      <td>20</td>\n",
       "      <td>23</td>\n",
       "      <td>0</td>\n",
       "      <td>45.000000</td>\n",
       "      <td>0</td>\n",
       "    </tr>\n",
       "    <tr>\n",
       "      <th>1</th>\n",
       "      <td>a203</td>\n",
       "      <td>Infubinol</td>\n",
       "      <td>Female</td>\n",
       "      <td>20</td>\n",
       "      <td>23</td>\n",
       "      <td>5</td>\n",
       "      <td>48.508468</td>\n",
       "      <td>0</td>\n",
       "    </tr>\n",
       "    <tr>\n",
       "      <th>2</th>\n",
       "      <td>a203</td>\n",
       "      <td>Infubinol</td>\n",
       "      <td>Female</td>\n",
       "      <td>20</td>\n",
       "      <td>23</td>\n",
       "      <td>10</td>\n",
       "      <td>51.852437</td>\n",
       "      <td>1</td>\n",
       "    </tr>\n",
       "    <tr>\n",
       "      <th>3</th>\n",
       "      <td>a203</td>\n",
       "      <td>Infubinol</td>\n",
       "      <td>Female</td>\n",
       "      <td>20</td>\n",
       "      <td>23</td>\n",
       "      <td>15</td>\n",
       "      <td>52.777870</td>\n",
       "      <td>1</td>\n",
       "    </tr>\n",
       "    <tr>\n",
       "      <th>4</th>\n",
       "      <td>a203</td>\n",
       "      <td>Infubinol</td>\n",
       "      <td>Female</td>\n",
       "      <td>20</td>\n",
       "      <td>23</td>\n",
       "      <td>20</td>\n",
       "      <td>55.173336</td>\n",
       "      <td>1</td>\n",
       "    </tr>\n",
       "    <tr>\n",
       "      <th>...</th>\n",
       "      <td>...</td>\n",
       "      <td>...</td>\n",
       "      <td>...</td>\n",
       "      <td>...</td>\n",
       "      <td>...</td>\n",
       "      <td>...</td>\n",
       "      <td>...</td>\n",
       "      <td>...</td>\n",
       "    </tr>\n",
       "    <tr>\n",
       "      <th>1888</th>\n",
       "      <td>z969</td>\n",
       "      <td>Naftisol</td>\n",
       "      <td>Male</td>\n",
       "      <td>9</td>\n",
       "      <td>30</td>\n",
       "      <td>25</td>\n",
       "      <td>63.145652</td>\n",
       "      <td>2</td>\n",
       "    </tr>\n",
       "    <tr>\n",
       "      <th>1889</th>\n",
       "      <td>z969</td>\n",
       "      <td>Naftisol</td>\n",
       "      <td>Male</td>\n",
       "      <td>9</td>\n",
       "      <td>30</td>\n",
       "      <td>30</td>\n",
       "      <td>65.841013</td>\n",
       "      <td>3</td>\n",
       "    </tr>\n",
       "    <tr>\n",
       "      <th>1890</th>\n",
       "      <td>z969</td>\n",
       "      <td>Naftisol</td>\n",
       "      <td>Male</td>\n",
       "      <td>9</td>\n",
       "      <td>30</td>\n",
       "      <td>35</td>\n",
       "      <td>69.176246</td>\n",
       "      <td>4</td>\n",
       "    </tr>\n",
       "    <tr>\n",
       "      <th>1891</th>\n",
       "      <td>z969</td>\n",
       "      <td>Naftisol</td>\n",
       "      <td>Male</td>\n",
       "      <td>9</td>\n",
       "      <td>30</td>\n",
       "      <td>40</td>\n",
       "      <td>70.314904</td>\n",
       "      <td>4</td>\n",
       "    </tr>\n",
       "    <tr>\n",
       "      <th>1892</th>\n",
       "      <td>z969</td>\n",
       "      <td>Naftisol</td>\n",
       "      <td>Male</td>\n",
       "      <td>9</td>\n",
       "      <td>30</td>\n",
       "      <td>45</td>\n",
       "      <td>73.867845</td>\n",
       "      <td>4</td>\n",
       "    </tr>\n",
       "  </tbody>\n",
       "</table>\n",
       "<p>1893 rows × 8 columns</p>\n",
       "</div>"
      ],
      "text/plain": [
       "     Mouse ID Drug Regimen     Sex  Age_months  Weight (g)  Timepoint  \\\n",
       "0        a203    Infubinol  Female          20          23          0   \n",
       "1        a203    Infubinol  Female          20          23          5   \n",
       "2        a203    Infubinol  Female          20          23         10   \n",
       "3        a203    Infubinol  Female          20          23         15   \n",
       "4        a203    Infubinol  Female          20          23         20   \n",
       "...       ...          ...     ...         ...         ...        ...   \n",
       "1888     z969     Naftisol    Male           9          30         25   \n",
       "1889     z969     Naftisol    Male           9          30         30   \n",
       "1890     z969     Naftisol    Male           9          30         35   \n",
       "1891     z969     Naftisol    Male           9          30         40   \n",
       "1892     z969     Naftisol    Male           9          30         45   \n",
       "\n",
       "      Tumor Volume (mm3)  Metastatic Sites  \n",
       "0              45.000000                 0  \n",
       "1              48.508468                 0  \n",
       "2              51.852437                 1  \n",
       "3              52.777870                 1  \n",
       "4              55.173336                 1  \n",
       "...                  ...               ...  \n",
       "1888           63.145652                 2  \n",
       "1889           65.841013                 3  \n",
       "1890           69.176246                 4  \n",
       "1891           70.314904                 4  \n",
       "1892           73.867845                 4  \n",
       "\n",
       "[1893 rows x 8 columns]"
      ]
     },
     "execution_count": 17,
     "metadata": {},
     "output_type": "execute_result"
    }
   ],
   "source": [
    "\n",
    "\n",
    "# Combine the data into a single dataset\n",
    "\n",
    "# sorted the values on Mouse ID\n",
    "mergeddata_df = pd.merge(mouse_metadata,study_results,how=\"outer\",on ='Mouse ID',sort='TRUE')\n",
    "#mergeddata_df.sort_values('Mouse ID')\n",
    "#mergeddata_df.sort_index(axis=0)\n",
    "\n",
    "# Display the data table for preview\n",
    "\n",
    "mergeddata_df\n"
   ]
  },
  {
   "cell_type": "code",
   "execution_count": 21,
   "metadata": {},
   "outputs": [
    {
     "data": {
      "text/plain": [
       "249"
      ]
     },
     "execution_count": 21,
     "metadata": {},
     "output_type": "execute_result"
    }
   ],
   "source": [
    "# Checking the number of mice.\n",
    "len(mergeddata_df.value_counts('Mouse ID'))"
   ]
  },
  {
   "cell_type": "code",
   "execution_count": 50,
   "metadata": {},
   "outputs": [
    {
     "data": {
      "text/plain": [
       "1893"
      ]
     },
     "execution_count": 50,
     "metadata": {},
     "output_type": "execute_result"
    }
   ],
   "source": [
    "# Getting the duplicate mice by ID number that shows up for Mouse ID and Timepoint. \n",
    "len(mergeddata_df['Timepoint'])\n",
    "# Optional: Get all the data for the duplicate mouse ID. \n",
    "\n",
    "#mdata2=mergeddata_df.groupby(['Mouse ID','Timepoint'])\n",
    "#mdata2=mergeddata_df.groupby(['Mouse ID','Timepoint']).Timepoint.nunique()\n",
    "#mdata2=mergeddata_df.groupby(['Mouse ID','Timepoint']).Timepoint.value_counts()\n",
    "#print(len(mdata2))\n",
    "#mdata2\n",
    "# mdata2.size()\n",
    "#mergeddata_df.drop_duplicates()\n"
   ]
  },
  {
   "cell_type": "code",
   "execution_count": null,
   "metadata": {},
   "outputs": [],
   "source": []
  },
  {
   "cell_type": "code",
   "execution_count": 58,
   "metadata": {},
   "outputs": [
    {
     "name": "stdout",
     "output_type": "stream",
     "text": [
      "1888\n"
     ]
    },
    {
     "data": {
      "text/html": [
       "<div>\n",
       "<style scoped>\n",
       "    .dataframe tbody tr th:only-of-type {\n",
       "        vertical-align: middle;\n",
       "    }\n",
       "\n",
       "    .dataframe tbody tr th {\n",
       "        vertical-align: top;\n",
       "    }\n",
       "\n",
       "    .dataframe thead th {\n",
       "        text-align: right;\n",
       "    }\n",
       "</style>\n",
       "<table border=\"1\" class=\"dataframe\">\n",
       "  <thead>\n",
       "    <tr style=\"text-align: right;\">\n",
       "      <th></th>\n",
       "      <th>Mouse ID</th>\n",
       "      <th>Drug Regimen</th>\n",
       "      <th>Sex</th>\n",
       "      <th>Age_months</th>\n",
       "      <th>Weight (g)</th>\n",
       "      <th>Timepoint</th>\n",
       "      <th>Tumor Volume (mm3)</th>\n",
       "      <th>Metastatic Sites</th>\n",
       "    </tr>\n",
       "  </thead>\n",
       "  <tbody>\n",
       "    <tr>\n",
       "      <th>0</th>\n",
       "      <td>a203</td>\n",
       "      <td>Infubinol</td>\n",
       "      <td>Female</td>\n",
       "      <td>20</td>\n",
       "      <td>23</td>\n",
       "      <td>0</td>\n",
       "      <td>45.000000</td>\n",
       "      <td>0</td>\n",
       "    </tr>\n",
       "    <tr>\n",
       "      <th>1</th>\n",
       "      <td>a203</td>\n",
       "      <td>Infubinol</td>\n",
       "      <td>Female</td>\n",
       "      <td>20</td>\n",
       "      <td>23</td>\n",
       "      <td>5</td>\n",
       "      <td>48.508468</td>\n",
       "      <td>0</td>\n",
       "    </tr>\n",
       "    <tr>\n",
       "      <th>2</th>\n",
       "      <td>a203</td>\n",
       "      <td>Infubinol</td>\n",
       "      <td>Female</td>\n",
       "      <td>20</td>\n",
       "      <td>23</td>\n",
       "      <td>10</td>\n",
       "      <td>51.852437</td>\n",
       "      <td>1</td>\n",
       "    </tr>\n",
       "    <tr>\n",
       "      <th>3</th>\n",
       "      <td>a203</td>\n",
       "      <td>Infubinol</td>\n",
       "      <td>Female</td>\n",
       "      <td>20</td>\n",
       "      <td>23</td>\n",
       "      <td>15</td>\n",
       "      <td>52.777870</td>\n",
       "      <td>1</td>\n",
       "    </tr>\n",
       "    <tr>\n",
       "      <th>4</th>\n",
       "      <td>a203</td>\n",
       "      <td>Infubinol</td>\n",
       "      <td>Female</td>\n",
       "      <td>20</td>\n",
       "      <td>23</td>\n",
       "      <td>20</td>\n",
       "      <td>55.173336</td>\n",
       "      <td>1</td>\n",
       "    </tr>\n",
       "  </tbody>\n",
       "</table>\n",
       "</div>"
      ],
      "text/plain": [
       "  Mouse ID Drug Regimen     Sex  Age_months  Weight (g)  Timepoint  \\\n",
       "0     a203    Infubinol  Female          20          23          0   \n",
       "1     a203    Infubinol  Female          20          23          5   \n",
       "2     a203    Infubinol  Female          20          23         10   \n",
       "3     a203    Infubinol  Female          20          23         15   \n",
       "4     a203    Infubinol  Female          20          23         20   \n",
       "\n",
       "   Tumor Volume (mm3)  Metastatic Sites  \n",
       "0           45.000000                 0  \n",
       "1           48.508468                 0  \n",
       "2           51.852437                 1  \n",
       "3           52.777870                 1  \n",
       "4           55.173336                 1  "
      ]
     },
     "execution_count": 58,
     "metadata": {},
     "output_type": "execute_result"
    }
   ],
   "source": [
    "# Create a clean DataFrame by dropping the duplicate mouse by its ID.\n",
    "\n",
    "mergeNodup_df=mergeddata_df.drop_duplicates(subset=['Mouse ID','Timepoint'])\n",
    "print(len(mergeNodup_df))\n",
    "#df.drop_duplicates(subset=['brand', 'style']\n",
    "mergeNodup_df.head()"
   ]
  },
  {
   "cell_type": "code",
   "execution_count": 59,
   "metadata": {},
   "outputs": [
    {
     "name": "stdout",
     "output_type": "stream",
     "text": [
      "1888\n"
     ]
    }
   ],
   "source": [
    "# Checking the number of mice in the clean DataFrame.\n",
    "print(len(mergeNodup_df))"
   ]
  },
  {
   "cell_type": "markdown",
   "metadata": {},
   "source": [
    "## Summary Statistics"
   ]
  },
  {
   "cell_type": "code",
   "execution_count": 68,
   "metadata": {},
   "outputs": [
    {
     "data": {
      "text/html": [
       "<div>\n",
       "<style scoped>\n",
       "    .dataframe tbody tr th:only-of-type {\n",
       "        vertical-align: middle;\n",
       "    }\n",
       "\n",
       "    .dataframe tbody tr th {\n",
       "        vertical-align: top;\n",
       "    }\n",
       "\n",
       "    .dataframe thead th {\n",
       "        text-align: right;\n",
       "    }\n",
       "</style>\n",
       "<table border=\"1\" class=\"dataframe\">\n",
       "  <thead>\n",
       "    <tr style=\"text-align: right;\">\n",
       "      <th></th>\n",
       "      <th>Tumor Vol Mean</th>\n",
       "      <th>Tumor Vol Median</th>\n",
       "      <th>Tumor Vol Std Deviation</th>\n",
       "      <th>Tumor Vol SEM</th>\n",
       "    </tr>\n",
       "    <tr>\n",
       "      <th>Drug Regimen</th>\n",
       "      <th></th>\n",
       "      <th></th>\n",
       "      <th></th>\n",
       "      <th></th>\n",
       "    </tr>\n",
       "  </thead>\n",
       "  <tbody>\n",
       "    <tr>\n",
       "      <th>Capomulin</th>\n",
       "      <td>40.675741</td>\n",
       "      <td>41.557809</td>\n",
       "      <td>4.994774</td>\n",
       "      <td>0.329346</td>\n",
       "    </tr>\n",
       "    <tr>\n",
       "      <th>Ceftamin</th>\n",
       "      <td>52.591172</td>\n",
       "      <td>51.776157</td>\n",
       "      <td>6.268188</td>\n",
       "      <td>0.469821</td>\n",
       "    </tr>\n",
       "    <tr>\n",
       "      <th>Infubinol</th>\n",
       "      <td>52.884795</td>\n",
       "      <td>51.820584</td>\n",
       "      <td>6.567243</td>\n",
       "      <td>0.492236</td>\n",
       "    </tr>\n",
       "    <tr>\n",
       "      <th>Ketapril</th>\n",
       "      <td>55.235638</td>\n",
       "      <td>53.698743</td>\n",
       "      <td>8.279709</td>\n",
       "      <td>0.603860</td>\n",
       "    </tr>\n",
       "    <tr>\n",
       "      <th>Naftisol</th>\n",
       "      <td>54.331565</td>\n",
       "      <td>52.509285</td>\n",
       "      <td>8.134708</td>\n",
       "      <td>0.596466</td>\n",
       "    </tr>\n",
       "    <tr>\n",
       "      <th>Placebo</th>\n",
       "      <td>54.033581</td>\n",
       "      <td>52.288934</td>\n",
       "      <td>7.821003</td>\n",
       "      <td>0.581331</td>\n",
       "    </tr>\n",
       "    <tr>\n",
       "      <th>Propriva</th>\n",
       "      <td>52.393463</td>\n",
       "      <td>50.909965</td>\n",
       "      <td>6.568014</td>\n",
       "      <td>0.525862</td>\n",
       "    </tr>\n",
       "    <tr>\n",
       "      <th>Ramicane</th>\n",
       "      <td>40.216745</td>\n",
       "      <td>40.673236</td>\n",
       "      <td>4.846308</td>\n",
       "      <td>0.320955</td>\n",
       "    </tr>\n",
       "    <tr>\n",
       "      <th>Stelasyn</th>\n",
       "      <td>54.233149</td>\n",
       "      <td>52.431737</td>\n",
       "      <td>7.710419</td>\n",
       "      <td>0.573111</td>\n",
       "    </tr>\n",
       "    <tr>\n",
       "      <th>Zoniferol</th>\n",
       "      <td>53.236507</td>\n",
       "      <td>51.818479</td>\n",
       "      <td>6.966589</td>\n",
       "      <td>0.516398</td>\n",
       "    </tr>\n",
       "  </tbody>\n",
       "</table>\n",
       "</div>"
      ],
      "text/plain": [
       "              Tumor Vol Mean  Tumor Vol Median  Tumor Vol Std Deviation  \\\n",
       "Drug Regimen                                                              \n",
       "Capomulin          40.675741         41.557809                 4.994774   \n",
       "Ceftamin           52.591172         51.776157                 6.268188   \n",
       "Infubinol          52.884795         51.820584                 6.567243   \n",
       "Ketapril           55.235638         53.698743                 8.279709   \n",
       "Naftisol           54.331565         52.509285                 8.134708   \n",
       "Placebo            54.033581         52.288934                 7.821003   \n",
       "Propriva           52.393463         50.909965                 6.568014   \n",
       "Ramicane           40.216745         40.673236                 4.846308   \n",
       "Stelasyn           54.233149         52.431737                 7.710419   \n",
       "Zoniferol          53.236507         51.818479                 6.966589   \n",
       "\n",
       "              Tumor Vol SEM  \n",
       "Drug Regimen                 \n",
       "Capomulin          0.329346  \n",
       "Ceftamin           0.469821  \n",
       "Infubinol          0.492236  \n",
       "Ketapril           0.603860  \n",
       "Naftisol           0.596466  \n",
       "Placebo            0.581331  \n",
       "Propriva           0.525862  \n",
       "Ramicane           0.320955  \n",
       "Stelasyn           0.573111  \n",
       "Zoniferol          0.516398  "
      ]
     },
     "execution_count": 68,
     "metadata": {},
     "output_type": "execute_result"
    }
   ],
   "source": [
    "# Generate a summary statistics table of mean, median, variance, standard deviation, and SEM of the tumor volume for each regimen\n",
    "\n",
    "# Use groupby and summary statistical methods to calculate the following properties of each drug regimen: \n",
    "Summ_mergeNodup_df = mergeNodup_df.groupby(['Drug Regimen'])\n",
    "# mean, median, variance, standard deviation, and SEM of the tumor volume. \n",
    "TumVol_mean=Summ_mergeNodup_df['Tumor Volume (mm3)'].mean()\n",
    "TumVol_median=Summ_mergeNodup_df['Tumor Volume (mm3)'].median()\n",
    "TumVol_StdDev=Summ_mergeNodup_df['Tumor Volume (mm3)'].std()\n",
    "TumVol_SEM=Summ_mergeNodup_df['Tumor Volume (mm3)'].sem()\n",
    "# Assemble the resulting series into a single summary dataframe.\n",
    "\n",
    "NewSumm_df=pd.DataFrame({'Tumor Vol Mean':TumVol_mean,\n",
    "                        'Tumor Vol Median':TumVol_median,\n",
    "                         'Tumor Vol Std Deviation':TumVol_StdDev,\n",
    "                         'Tumor Vol SEM':TumVol_SEM\n",
    "                        })\n",
    "\n",
    "NewSumm_df"
   ]
  },
  {
   "cell_type": "code",
   "execution_count": 69,
   "metadata": {},
   "outputs": [
    {
     "data": {
      "text/plain": [
       "<AxesSubplot:xlabel='Drug Regimen'>"
      ]
     },
     "execution_count": 69,
     "metadata": {},
     "output_type": "execute_result"
    },
    {
     "data": {
      "image/png": "[encoded data removed]",
      "text/plain": [
       "<Figure size 432x288 with 1 Axes>"
      ]
     },
     "metadata": {
      "needs_background": "light"
     },
     "output_type": "display_data"
    }
   ],
   "source": [
    "# Generate a summary statistics table of mean, median, variance, standard deviation, and SEM of the tumor volume for each regimen\n",
    "\n",
    "# Using the aggregation method, produce the same summary statistics in a single line\n",
    "\n",
    "NewSumm_df.plot()\n"
   ]
  },
  {
   "cell_type": "markdown",
   "metadata": {},
   "source": [
    "## Bar and Pie Charts"
   ]
  },
  {
   "cell_type": "code",
   "execution_count": 77,
   "metadata": {},
   "outputs": [
    {
     "data": {
      "text/plain": [
       "Text(0.5, 1.0, 'Drug Regimen Vs No.of Timepoints')"
      ]
     },
     "execution_count": 77,
     "metadata": {},
     "output_type": "execute_result"
    },
    {
     "data": {
      "image/png": "[encoded data removed]",
      "text/plain": [
       "<Figure size 432x288 with 1 Axes>"
      ]
     },
     "metadata": {
      "needs_background": "light"
     },
     "output_type": "display_data"
    }
   ],
   "source": [
    "# Generate a bar plot showing the total number of timepoints \n",
    "#for all mice tested for each drug regimen using Pandas.\n",
    "mergeNodup_df['Drug Regimen'].value_counts()\n",
    "\n",
    "drugRegimen_bar = mergeNodup_df['Drug Regimen'].value_counts().plot(kind='bar')\n",
    "drugRegimen_bar.set_xlabel(\"Drug Regimen\")\n",
    "drugRegimen_bar.set_ylabel(\"No.of Timepoints\")\n",
    "drugRegimen_bar.set_title(\"Drug Regimen Vs No.of Timepoints\")\n"
   ]
  },
  {
   "cell_type": "code",
   "execution_count": 101,
   "metadata": {},
   "outputs": [
    {
     "data": {
      "text/plain": [
       "Text(0.5, 1.0, 'Drug Regimen Vs No.of Timepoints')"
      ]
     },
     "execution_count": 101,
     "metadata": {},
     "output_type": "execute_result"
    },
    {
     "data": {
      "image/png": "[encoded data removed]",
      "text/plain": [
       "<Figure size 432x288 with 1 Axes>"
      ]
     },
     "metadata": {
      "needs_background": "light"
     },
     "output_type": "display_data"
    }
   ],
   "source": [
    "# Generate a bar plot showing the total number of timepoints \n",
    "#for all mice tested for each drug regimen using pyplot.\n",
    "totalno=mergeNodup_df['Drug Regimen'].value_counts()\n",
    "x_axis = np.arange(len(totalno))\n",
    "plt.bar(x_axis,totalno)\n",
    "\n",
    "\n",
    "mergeNodup_df['Drug Regimen'].unique()\n",
    "tick_locations = [value for value in x_axis]\n",
    "plt.xticks(tick_locations,mergeNodup_df['Drug Regimen'].unique())\n",
    "\n",
    "plt.xticks(rotation=90)\n",
    "\n",
    "plt.xlabel(\"Drug Regimen\")\n",
    "plt.ylabel(\"No.of Timepoints\")\n",
    "plt.title(\"Drug Regimen Vs No.of Timepoints\")\n"
   ]
  },
  {
   "cell_type": "code",
   "execution_count": 114,
   "metadata": {},
   "outputs": [
    {
     "data": {
      "image/png": "[encoded data removed]",
      "text/plain": [
       "<Figure size 432x288 with 1 Axes>"
      ]
     },
     "metadata": {},
     "output_type": "display_data"
    }
   ],
   "source": [
    "# Generate a pie plot showing the distribution of female versus male mice using Pandas\n",
    "\n",
    "gendermice_df=mergeNodup_df['Sex'].value_counts()\n",
    "\n",
    "miceSex_Pie= gendermice_df.plot(kind='pie',subplots=True, title=\"Female Vs Male\",autopct='%1.1f%%')\n",
    "# miceSex_Pie.set_xlabel(\"Drug Regimen\")\n",
    "# miceSex_Pie.set_ylabel(\"No.of Timepoints\")\n",
    "#miceSex_Pie.set_title(\"Female Vs Male\")"
   ]
  },
  {
   "cell_type": "code",
   "execution_count": 113,
   "metadata": {},
   "outputs": [
    {
     "data": {
      "image/png": "[encoded data removed]",
      "text/plain": [
       "<Figure size 432x288 with 1 Axes>"
      ]
     },
     "metadata": {},
     "output_type": "display_data"
    }
   ],
   "source": [
    "# Generate a pie plot showing the distribution of female versus male mice using pyplot\n",
    "\n",
    "totalnomalefem=mergeNodup_df['Sex'].value_counts()\n",
    "\n",
    "plt.pie(totalnomalefem,labels=mergeNodup_df['Sex'].unique(),autopct='%1.1f%%')\n",
    "\n",
    "\n",
    "plt.title(\"Female Vs Male\")\n",
    "plt.show()"
   ]
  },
  {
   "cell_type": "markdown",
   "metadata": {},
   "source": [
    "## Quartiles, Outliers and Boxplots"
   ]
  },
  {
   "cell_type": "code",
   "execution_count": 128,
   "metadata": {},
   "outputs": [
    {
     "data": {
      "text/html": [
       "<div>\n",
       "<style scoped>\n",
       "    .dataframe tbody tr th:only-of-type {\n",
       "        vertical-align: middle;\n",
       "    }\n",
       "\n",
       "    .dataframe tbody tr th {\n",
       "        vertical-align: top;\n",
       "    }\n",
       "\n",
       "    .dataframe thead th {\n",
       "        text-align: right;\n",
       "    }\n",
       "</style>\n",
       "<table border=\"1\" class=\"dataframe\">\n",
       "  <thead>\n",
       "    <tr style=\"text-align: right;\">\n",
       "      <th></th>\n",
       "      <th>Mouse ID</th>\n",
       "      <th>Drug Regimen</th>\n",
       "      <th>Sex</th>\n",
       "      <th>Age_months</th>\n",
       "      <th>Weight (g)</th>\n",
       "      <th>Timepoint</th>\n",
       "      <th>Tumor Volume (mm3)</th>\n",
       "      <th>Metastatic Sites</th>\n",
       "      <th>MaxTimepoint</th>\n",
       "    </tr>\n",
       "  </thead>\n",
       "  <tbody>\n",
       "    <tr>\n",
       "      <th>0</th>\n",
       "      <td>a203</td>\n",
       "      <td>Infubinol</td>\n",
       "      <td>Female</td>\n",
       "      <td>20</td>\n",
       "      <td>23</td>\n",
       "      <td>0</td>\n",
       "      <td>45.000000</td>\n",
       "      <td>0</td>\n",
       "      <td>45</td>\n",
       "    </tr>\n",
       "    <tr>\n",
       "      <th>1</th>\n",
       "      <td>a203</td>\n",
       "      <td>Infubinol</td>\n",
       "      <td>Female</td>\n",
       "      <td>20</td>\n",
       "      <td>23</td>\n",
       "      <td>5</td>\n",
       "      <td>48.508468</td>\n",
       "      <td>0</td>\n",
       "      <td>45</td>\n",
       "    </tr>\n",
       "    <tr>\n",
       "      <th>2</th>\n",
       "      <td>a203</td>\n",
       "      <td>Infubinol</td>\n",
       "      <td>Female</td>\n",
       "      <td>20</td>\n",
       "      <td>23</td>\n",
       "      <td>10</td>\n",
       "      <td>51.852437</td>\n",
       "      <td>1</td>\n",
       "      <td>45</td>\n",
       "    </tr>\n",
       "    <tr>\n",
       "      <th>3</th>\n",
       "      <td>a203</td>\n",
       "      <td>Infubinol</td>\n",
       "      <td>Female</td>\n",
       "      <td>20</td>\n",
       "      <td>23</td>\n",
       "      <td>15</td>\n",
       "      <td>52.777870</td>\n",
       "      <td>1</td>\n",
       "      <td>45</td>\n",
       "    </tr>\n",
       "    <tr>\n",
       "      <th>4</th>\n",
       "      <td>a203</td>\n",
       "      <td>Infubinol</td>\n",
       "      <td>Female</td>\n",
       "      <td>20</td>\n",
       "      <td>23</td>\n",
       "      <td>20</td>\n",
       "      <td>55.173336</td>\n",
       "      <td>1</td>\n",
       "      <td>45</td>\n",
       "    </tr>\n",
       "    <tr>\n",
       "      <th>...</th>\n",
       "      <td>...</td>\n",
       "      <td>...</td>\n",
       "      <td>...</td>\n",
       "      <td>...</td>\n",
       "      <td>...</td>\n",
       "      <td>...</td>\n",
       "      <td>...</td>\n",
       "      <td>...</td>\n",
       "      <td>...</td>\n",
       "    </tr>\n",
       "    <tr>\n",
       "      <th>1883</th>\n",
       "      <td>z969</td>\n",
       "      <td>Naftisol</td>\n",
       "      <td>Male</td>\n",
       "      <td>9</td>\n",
       "      <td>30</td>\n",
       "      <td>25</td>\n",
       "      <td>63.145652</td>\n",
       "      <td>2</td>\n",
       "      <td>45</td>\n",
       "    </tr>\n",
       "    <tr>\n",
       "      <th>1884</th>\n",
       "      <td>z969</td>\n",
       "      <td>Naftisol</td>\n",
       "      <td>Male</td>\n",
       "      <td>9</td>\n",
       "      <td>30</td>\n",
       "      <td>30</td>\n",
       "      <td>65.841013</td>\n",
       "      <td>3</td>\n",
       "      <td>45</td>\n",
       "    </tr>\n",
       "    <tr>\n",
       "      <th>1885</th>\n",
       "      <td>z969</td>\n",
       "      <td>Naftisol</td>\n",
       "      <td>Male</td>\n",
       "      <td>9</td>\n",
       "      <td>30</td>\n",
       "      <td>35</td>\n",
       "      <td>69.176246</td>\n",
       "      <td>4</td>\n",
       "      <td>45</td>\n",
       "    </tr>\n",
       "    <tr>\n",
       "      <th>1886</th>\n",
       "      <td>z969</td>\n",
       "      <td>Naftisol</td>\n",
       "      <td>Male</td>\n",
       "      <td>9</td>\n",
       "      <td>30</td>\n",
       "      <td>40</td>\n",
       "      <td>70.314904</td>\n",
       "      <td>4</td>\n",
       "      <td>45</td>\n",
       "    </tr>\n",
       "    <tr>\n",
       "      <th>1887</th>\n",
       "      <td>z969</td>\n",
       "      <td>Naftisol</td>\n",
       "      <td>Male</td>\n",
       "      <td>9</td>\n",
       "      <td>30</td>\n",
       "      <td>45</td>\n",
       "      <td>73.867845</td>\n",
       "      <td>4</td>\n",
       "      <td>45</td>\n",
       "    </tr>\n",
       "  </tbody>\n",
       "</table>\n",
       "<p>1888 rows × 9 columns</p>\n",
       "</div>"
      ],
      "text/plain": [
       "     Mouse ID Drug Regimen     Sex  Age_months  Weight (g)  Timepoint  \\\n",
       "0        a203    Infubinol  Female          20          23          0   \n",
       "1        a203    Infubinol  Female          20          23          5   \n",
       "2        a203    Infubinol  Female          20          23         10   \n",
       "3        a203    Infubinol  Female          20          23         15   \n",
       "4        a203    Infubinol  Female          20          23         20   \n",
       "...       ...          ...     ...         ...         ...        ...   \n",
       "1883     z969     Naftisol    Male           9          30         25   \n",
       "1884     z969     Naftisol    Male           9          30         30   \n",
       "1885     z969     Naftisol    Male           9          30         35   \n",
       "1886     z969     Naftisol    Male           9          30         40   \n",
       "1887     z969     Naftisol    Male           9          30         45   \n",
       "\n",
       "      Tumor Volume (mm3)  Metastatic Sites  MaxTimepoint  \n",
       "0              45.000000                 0            45  \n",
       "1              48.508468                 0            45  \n",
       "2              51.852437                 1            45  \n",
       "3              52.777870                 1            45  \n",
       "4              55.173336                 1            45  \n",
       "...                  ...               ...           ...  \n",
       "1883           63.145652                 2            45  \n",
       "1884           65.841013                 3            45  \n",
       "1885           69.176246                 4            45  \n",
       "1886           70.314904                 4            45  \n",
       "1887           73.867845                 4            45  \n",
       "\n",
       "[1888 rows x 9 columns]"
      ]
     },
     "execution_count": 128,
     "metadata": {},
     "output_type": "execute_result"
    }
   ],
   "source": [
    "# Calculate the final tumor volume of each mouse across four of the treatment regimens:  \n",
    "# Capomulin, Ramicane, Infubinol, and Ceftamin\n",
    "\n",
    "# Start by getting the last (greatest) timepoint for each mouse\n",
    "maxpoint_mouse=mergeNodup_df.groupby('Mouse ID')['Timepoint'].max()\n",
    "maxpoint_mouse_df=pd.DataFrame({\"MaxTimepoint\": maxpoint_mouse})\n",
    "maxpoint_mouse_df.head()\n",
    "\n",
    "\n",
    "\n",
    "\n",
    "# Merge this group df with the original dataframe to get \n",
    "#the tumor volume at the last timepoint\n",
    "\n",
    "orig_maxpoint_merged_df=pd.merge(mergeNodup_df,maxpoint_mouse_df,how=\"outer\",on ='Mouse ID',sort='TRUE')\n",
    "orig_maxpoint_merged_df"
   ]
  },
  {
   "cell_type": "code",
   "execution_count": 163,
   "metadata": {},
   "outputs": [
    {
     "name": "stdout",
     "output_type": "stream",
     "text": [
      "Capomulin has IQR : 7.781863460000004\n",
      "Capomulin has lower boundary : 20.70456164999999\n",
      "Capomulin has upper boundary : 51.83201549\n",
      "Series([], Name: Tumor Volume (mm3), dtype: float64)\n",
      "0\n",
      "Ramicane has IQR : 9.098536719999998\n",
      "Ramicane has lower boundary : 17.912664470000003\n",
      "Ramicane has upper boundary : 54.30681135\n",
      "Series([], Name: Tumor Volume (mm3), dtype: float64)\n",
      "0\n",
      "Infubinol has IQR : 11.477135160000003\n",
      "Infubinol has lower boundary : 36.83290494999999\n",
      "Infubinol has upper boundary : 82.74144559000001\n",
      "275    36.321346\n",
      "Name: Tumor Volume (mm3), dtype: float64\n",
      "1\n",
      "Ceftamin has IQR : 15.577752179999997\n",
      "Ceftamin has lower boundary : 25.355449580000002\n",
      "Ceftamin has upper boundary : 87.66645829999999\n",
      "Series([], Name: Tumor Volume (mm3), dtype: float64)\n",
      "0\n"
     ]
    }
   ],
   "source": [
    "# Put treatments into a list for for loop (and later for plot labels)\n",
    "drugs_tobe_checked=['Capomulin', 'Ramicane', 'Infubinol', 'Ceftamin']\n",
    "\n",
    "# Create empty list to fill with tumor vol data (for plotting)\n",
    "tumor_vol_list = []\n",
    "\n",
    "\n",
    "    \n",
    "    # Locate the rows which contain mice on each drug and get the tumor volumes\n",
    "for drugvar in  drugs_tobe_checked: \n",
    "    drugloc_df =orig_maxpoint_merged_df.loc[orig_maxpoint_merged_df['Drug Regimen']== drugvar]\n",
    "    finaltumvol_df=drugloc_df.loc[drugloc_df['Timepoint']==drugloc_df['MaxTimepoint']]\n",
    "    \n",
    "    # add subset \n",
    "    tumorvol= finaltumvol_df['Tumor Volume (mm3)']\n",
    "    tumor_vol_list.append(tumorvol)\n",
    "    \n",
    "    # Calculate the IQR and quantitatively determine if there are any potential outliers. \n",
    "    # creating quartiles for each drug\n",
    "    quartiles = tumorvol.quantile([0.25,.5,.75])\n",
    "    #print(quartiles)\n",
    "    \n",
    "    lower_quartile=  quartiles[.25]\n",
    "    #print('lower' + str(lower_quartile))\n",
    "    \n",
    "    upper_quartile=  quartiles[.75]\n",
    "    #print('upper' + str(upper_quartile))\n",
    "     #IQR  = upper - lower \n",
    "    IQR = upper_quartile-lower_quartile\n",
    "    print(f'{drugvar} has IQR : {IQR}')\n",
    "    \n",
    "    # Determine outliers using upper and lower bounds\n",
    "    \n",
    "    lowerbound=lower_quartile - (IQR*1.5)\n",
    "    upperbound = upper_quartile + (IQR * 1.5)\n",
    "    print(f'{drugvar} has lower boundary : {lowerbound}')\n",
    "    print(f'{drugvar} has upper boundary : {upperbound}')\n",
    "    \n",
    "    print(tumorvol.loc[(finaltumvol_df['Tumor Volume (mm3)'] < lowerbound)\n",
    "                    | (finaltumvol_df['Tumor Volume (mm3)'] > upperbound)] )\n",
    "    #print('outliers are present')\n",
    "    cntoutliers=(tumorvol.loc[(finaltumvol_df['Tumor Volume (mm3)'] < lowerbound)\n",
    "                    | (finaltumvol_df['Tumor Volume (mm3)'] > upperbound)] ).count()\n",
    "    \n",
    "    print(cntoutliers)\n",
    "        \n",
    "    "
   ]
  },
  {
   "cell_type": "code",
   "execution_count": 169,
   "metadata": {},
   "outputs": [
    {
     "data": {
      "text/plain": [
       "Text(0, 0.5, 'Final Tumor Vol')"
      ]
     },
     "execution_count": 169,
     "metadata": {},
     "output_type": "execute_result"
    },
    {
     "data": {
      "image/png": "[encoded data removed]",
      "text/plain": [
       "<Figure size 432x288 with 1 Axes>"
      ]
     },
     "metadata": {
      "needs_background": "light"
     },
     "output_type": "display_data"
    }
   ],
   "source": [
    "# Generate a box plot of the final tumor volume of each mouse across four regimens of interest\n",
    "\n",
    "plt.boxplot(tumor_vol_list)\n",
    "plt.xticks([1,2,3,4],['Capomulin', 'Ramicane', 'Infubinol', 'Ceftamin'])\n",
    "plt.title(\"Drug Vs Tumor Vol\")\n",
    "plt.ylabel(\"Final Tumor Vol\")\n"
   ]
  },
  {
   "cell_type": "markdown",
   "metadata": {},
   "source": [
    "## Line and Scatter Plots"
   ]
  },
  {
   "cell_type": "code",
   "execution_count": 171,
   "metadata": {},
   "outputs": [
    {
     "data": {
      "text/plain": [
       "Text(0, 0.5, 'Tumor Volume in mm')"
      ]
     },
     "execution_count": 171,
     "metadata": {},
     "output_type": "execute_result"
    },
    {
     "data": {
      "image/png": "[encoded data removed]",
      "text/plain": [
       "<Figure size 432x288 with 1 Axes>"
      ]
     },
     "metadata": {
      "needs_background": "light"
     },
     "output_type": "display_data"
    }
   ],
   "source": [
    "# Generate a line plot of tumor volume vs. time point for a mouse treated with Capomulin\n",
    "mouseid=mergeNodup_df.loc[mergeNodup_df[\"Mouse ID\"] =='b742']\n",
    "\n",
    "plt.plot(mouseid[\"Timepoint\"],mouseid[\"Tumor Volume (mm3)\"])\n",
    "plt.title(\"Time points Vs Tumor Vol\")\n",
    "plt.xlabel(\"Timepoints\")\n",
    "plt.ylabel(\"Tumor Volume in mm\")\n",
    "\n"
   ]
  },
  {
   "cell_type": "code",
   "execution_count": 216,
   "metadata": {},
   "outputs": [
    {
     "data": {
      "image/png": "[encoded data removed]",
      "text/plain": [
       "<Figure size 432x288 with 1 Axes>"
      ]
     },
     "metadata": {
      "needs_background": "light"
     },
     "output_type": "display_data"
    }
   ],
   "source": [
    "# Generate a scatter plot of average tumor volume vs. mouse weight for the Capomulin regimen\n",
    "drugCapomulin_df = mergeNodup_df.loc[mergeNodup_df[\"Drug Regimen\"]=='Capomulin']\n",
    "drugCapomulin_df\n",
    "\n",
    "drugCapomulin_df.groupby([\"Mouse ID\"])[\"Tumor Volume (mm3)\"].mean()\n",
    "new_drugCapomulin_df = pd.DataFrame({\"Avg Tumor Vol\":drugCapomulin_df.groupby([\"Mouse ID\"])[\"Tumor Volume (mm3)\"].mean()})\n",
    "\n",
    "#new_drugCapomulin_df\n",
    "\n",
    "\n",
    "#weight=drugCapomulin_df.groupby([\"Mouse ID\"])[\"Weight (g)\"]\n",
    "#drugCapomulin_df[\"weight\"]=drugCapomulin_df.groupby([\"Mouse ID\"])[\"Weight (g)\"]\n",
    "#=new_drugCapomulin_df.append({\"Weight\":drugCapomulin_df.groupby([\"Mouse ID\"])[\"Weight (g)\"]})\n",
    "#plt.scatter(new_drugCapomulin_df)\n",
    "df=new_drugCapomulin_df.assign(weight=drugCapomulin_df.groupby([\"Mouse ID\"])[\"Weight (g)\"].unique())\n",
    "df\n",
    "plt.scatter(df[\"weight\"],df[\"Avg Tumor Vol\"])\n",
    "\n",
    "plt.xlabel(\"Weight (g)\")\n",
    "plt.ylabel(\"Avg Tumor Vol\")\n",
    "plt.title(\"Mouse weight Vs Avg tumor Vol\")\n",
    "plt.show()"
   ]
  },
  {
   "cell_type": "markdown",
   "metadata": {},
   "source": [
    "## Correlation and Regression"
   ]
  },
  {
   "cell_type": "code",
   "execution_count": 241,
   "metadata": {},
   "outputs": [
    {
     "name": "stdout",
     "output_type": "stream",
     "text": [
      "(0.8419363424694717, 1.322572243471279e-07)\n"
     ]
    },
    {
     "data": {
      "text/plain": [
       "[<matplotlib.lines.Line2D at 0x7f7f58c82d30>]"
      ]
     },
     "execution_count": 241,
     "metadata": {},
     "output_type": "execute_result"
    },
    {
     "data": {
      "image/png": "[encoded data removed]",
      "text/plain": [
       "<Figure size 432x288 with 1 Axes>"
      ]
     },
     "metadata": {
      "needs_background": "light"
     },
     "output_type": "display_data"
    }
   ],
   "source": [
    "# Calculate the correlation coefficient and linear regression model \n",
    "# for mouse weight and average tumor volume for the Capomulin regimen\n",
    "drugCapomulin_df = mergeNodup_df.loc[mergeNodup_df[\"Drug Regimen\"]=='Capomulin']\n",
    "drugCapomulin_df\n",
    "\n",
    "drugCapomulin_df.groupby([\"Mouse ID\"])[\"Tumor Volume (mm3)\"].mean()\n",
    "new_drugCapomulin_df = pd.DataFrame({\"Avg Tumor Vol\":drugCapomulin_df.groupby([\"Mouse ID\"])[\"Tumor Volume (mm3)\"].mean()})\n",
    "\n",
    "#new_drugCapomulin_df\n",
    "\n",
    "\n",
    "#weight=drugCapomulin_df.groupby([\"Mouse ID\"])[\"Weight (g)\"]\n",
    "#drugCapomulin_df[\"weight\"]=drugCapomulin_df.groupby([\"Mouse ID\"])[\"Weight (g)\"]\n",
    "#=new_drugCapomulin_df.append({\"Weight\":drugCapomulin_df.groupby([\"Mouse ID\"])[\"Weight (g)\"]})\n",
    "#plt.scatter(new_drugCapomulin_df)\n",
    "df=new_drugCapomulin_df.assign(weight=drugCapomulin_df.groupby([\"Mouse ID\"])[\"Weight (g)\"].unique())\n",
    "df\n",
    "\n",
    "xaxis=df[\"weight\"].astype(float)\n",
    "y=df[\"Avg Tumor Vol\"].astype(float)\n",
    "corr=st.pearsonr(xaxis,y)\n",
    "print(corr)\n",
    "\n",
    "plt.scatter(xaxis,y)\n",
    "\n",
    "(slope,intercept,rvalue,pvalue,stderr)=linregress(xaxis,y)\n",
    "regress_values=x * slope + intercept\n",
    "line_eq = \"y= \" +str(round(slope,2)) + \"x + \" + str(round(intercept,2))\n",
    "\n",
    "plt.scatter(xaxis,y)\n",
    "plt.plot(xaxis,regress_values,\"r-\")"
   ]
  },
  {
   "cell_type": "code",
   "execution_count": null,
   "metadata": {},
   "outputs": [],
   "source": []
  }
 ],
 "metadata": {
  "anaconda-cloud": {},
  "kernelspec": {
   "display_name": "Python 3",
   "language": "python",
   "name": "python3"
  },
  "language_info": {
   "codemirror_mode": {
    "name": "ipython",
    "version": 3
   },
   "file_extension": ".py",
   "mimetype": "text/x-python",
   "name": "python",
   "nbconvert_exporter": "python",
   "pygments_lexer": "ipython3",
   "version": "3.8.8"
  }
 },
 "nbformat": 4,
 "nbformat_minor": 4
}
